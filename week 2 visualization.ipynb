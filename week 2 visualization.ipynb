{
 "cells": [
  {
   "cell_type": "code",
   "execution_count": 17,
   "id": "9da103fc-0e7d-45c9-8fc2-5b0b4bbe4f9b",
   "metadata": {},
   "outputs": [
    {
     "name": "stdout",
     "output_type": "stream",
     "text": [
      "Collecting folium\n",
      "  Downloading folium-0.20.0-py2.py3-none-any.whl.metadata (4.2 kB)\n",
      "Collecting branca>=0.6.0 (from folium)\n",
      "  Downloading branca-0.8.1-py3-none-any.whl.metadata (1.5 kB)\n",
      "Requirement already satisfied: jinja2>=2.9 in c:\\programdata\\anaconda3\\lib\\site-packages (from folium) (3.1.6)\n",
      "Requirement already satisfied: numpy in c:\\programdata\\anaconda3\\lib\\site-packages (from folium) (2.1.3)\n",
      "Requirement already satisfied: requests in c:\\programdata\\anaconda3\\lib\\site-packages (from folium) (2.32.3)\n",
      "Requirement already satisfied: xyzservices in c:\\programdata\\anaconda3\\lib\\site-packages (from folium) (2022.9.0)\n",
      "Requirement already satisfied: MarkupSafe>=2.0 in c:\\programdata\\anaconda3\\lib\\site-packages (from jinja2>=2.9->folium) (3.0.2)\n",
      "Requirement already satisfied: charset-normalizer<4,>=2 in c:\\programdata\\anaconda3\\lib\\site-packages (from requests->folium) (3.3.2)\n",
      "Requirement already satisfied: idna<4,>=2.5 in c:\\programdata\\anaconda3\\lib\\site-packages (from requests->folium) (3.7)\n",
      "Requirement already satisfied: urllib3<3,>=1.21.1 in c:\\programdata\\anaconda3\\lib\\site-packages (from requests->folium) (2.3.0)\n",
      "Requirement already satisfied: certifi>=2017.4.17 in c:\\programdata\\anaconda3\\lib\\site-packages (from requests->folium) (2025.6.15)\n",
      "Downloading folium-0.20.0-py2.py3-none-any.whl (113 kB)\n",
      "Downloading branca-0.8.1-py3-none-any.whl (26 kB)\n",
      "Installing collected packages: branca, folium\n",
      "\n",
      "   -------------------- ------------------- 1/2 [folium]\n",
      "   ---------------------------------------- 2/2 [folium]\n",
      "\n",
      "Successfully installed branca-0.8.1 folium-0.20.0\n"
     ]
    }
   ],
   "source": [
    "!pip install folium"
   ]
  },
  {
   "cell_type": "code",
   "execution_count": 2,
   "id": "f01ad854-0286-438d-aef4-b75a77807fc7",
   "metadata": {},
   "outputs": [],
   "source": [
    "import folium\n",
    "\n",
    "\n",
    "map = folium.Map(location=[40.4093, 49.8671], zoom_start=7)\n",
    "\n",
    "\n",
    "folium.Marker(\n",
    "    location=[40.4093, 49.8671],\n",
    "    popup=\"Baku\",\n",
    "    tooltip=\"Click for info\"\n",
    ").add_to(map)\n",
    "\n",
    "\n",
    "map.save(\"baku_map.html\")"
   ]
  },
  {
   "cell_type": "markdown",
   "id": "7171050f-2ada-4b6b-a184-cbdd7b586cd4",
   "metadata": {},
   "source": [
    "1. Plot all telecom sites on a Folium map using their latitude and longitude."
   ]
  },
  {
   "cell_type": "code",
   "execution_count": 56,
   "id": "2a2b2052-6b39-4efb-b749-c71879dfed56",
   "metadata": {},
   "outputs": [
    {
     "data": {
      "text/html": [
       "\n",
       "        <iframe\n",
       "            width=\"800\"\n",
       "            height=\"500\"\n",
       "            src=\"taskX_map.html\"\n",
       "            frameborder=\"0\"\n",
       "            allowfullscreen\n",
       "            \n",
       "        ></iframe>\n",
       "        "
      ],
      "text/plain": [
       "<IPython.lib.display.IFrame at 0x1489eb0c0f0>"
      ]
     },
     "execution_count": 56,
     "metadata": {},
     "output_type": "execute_result"
    }
   ],
   "source": [
    "import pandas as pd\n",
    "import folium\n",
    "\n",
    "df = pd.read_excel(\"telecom_visualization_tasks.xlsx\", sheet_name=\"Site_Data\")\n",
    "telecom_map = folium.Map(location=[40.4093, 49.8671], zoom_start=7)\n",
    "\n",
    "for _, row in df.iterrows():\n",
    "    folium.Marker(\n",
    "        location=[row[\"Latitude\"], row[\"Longitude\"]],\n",
    "        popup=f\"{row['Site_Name']} ({row['Region']})\"\n",
    "    ).add_to(telecom_map)\n",
    "\n",
    "telecom_map.save(\"task1_all_sites.html\")\n",
    "from IPython.display import IFrame\n",
    "\n",
    "\n",
    "telecom_map.save(\"taskX_map.html\")\n",
    "\n",
    "IFrame(\"taskX_map.html\", width=800, height=500)"
   ]
  },
  {
   "cell_type": "markdown",
   "id": "e3c5b77d-04c6-4bf1-8854-708f5de3eef1",
   "metadata": {},
   "source": [
    "2. Color-code markers based on the Region field (e.g., Baku = blue, Ganja = green)."
   ]
  },
  {
   "cell_type": "code",
   "execution_count": 54,
   "id": "c335dcf2-d3d9-483c-98f4-f61d427a09d2",
   "metadata": {},
   "outputs": [
    {
     "data": {
      "text/html": [
       "\n",
       "        <iframe\n",
       "            width=\"800\"\n",
       "            height=\"500\"\n",
       "            src=\"taskX_map.html\"\n",
       "            frameborder=\"0\"\n",
       "            allowfullscreen\n",
       "            \n",
       "        ></iframe>\n",
       "        "
      ],
      "text/plain": [
       "<IPython.lib.display.IFrame at 0x1489ee6fee0>"
      ]
     },
     "execution_count": 54,
     "metadata": {},
     "output_type": "execute_result"
    }
   ],
   "source": [
    "region_colors = {\n",
    "    \"Baku\": \"blue\",\n",
    "    \"Ganja\": \"green\",\n",
    "    \"Sumqayit\": \"purple\",\n",
    "    \"Mingachevir\": \"orange\",\n",
    "    \"Nakhchivan\": \"darkred\",\n",
    "    \"Lankaran\": \"cadetblue\"\n",
    "}\n",
    "\n",
    "telecom_map = folium.Map(location=[40.4093, 49.8671], zoom_start=7)\n",
    "\n",
    "for _, row in df.iterrows():\n",
    "    folium.CircleMarker(\n",
    "        location=[row[\"Latitude\"], row[\"Longitude\"]],\n",
    "        radius=6,\n",
    "        color=region_colors.get(row[\"Region\"], \"gray\"),\n",
    "        fill=True,\n",
    "        fill_opacity=0.7,\n",
    "        popup=row[\"Site_Name\"]\n",
    "    ).add_to(telecom_map)\n",
    "\n",
    "telecom_map.save(\"task2_region_colors.html\")\n",
    "from IPython.display import IFrame\n",
    "\n",
    "\n",
    "telecom_map.save(\"taskX_map.html\")\n",
    "\n",
    "\n",
    "IFrame(\"taskX_map.html\", width=800, height=500)"
   ]
  },
  {
   "cell_type": "markdown",
   "id": "1fd99b47-9b70-48b2-bc1e-c53c0f612a3e",
   "metadata": {},
   "source": [
    "3. Implement marker clustering to avoid overlap of sites in dense areas."
   ]
  },
  {
   "cell_type": "code",
   "execution_count": 53,
   "id": "96739d2e-521a-4555-b648-4109cc704f17",
   "metadata": {},
   "outputs": [
    {
     "data": {
      "text/html": [
       "\n",
       "        <iframe\n",
       "            width=\"800\"\n",
       "            height=\"500\"\n",
       "            src=\"taskX_map.html\"\n",
       "            frameborder=\"0\"\n",
       "            allowfullscreen\n",
       "            \n",
       "        ></iframe>\n",
       "        "
      ],
      "text/plain": [
       "<IPython.lib.display.IFrame at 0x1489ee6db20>"
      ]
     },
     "execution_count": 53,
     "metadata": {},
     "output_type": "execute_result"
    }
   ],
   "source": [
    "from folium.plugins import MarkerCluster\n",
    "\n",
    "telecom_map = folium.Map(location=[40.4093, 49.8671], zoom_start=7)\n",
    "marker_cluster = MarkerCluster().add_to(telecom_map)\n",
    "\n",
    "for _, row in df.iterrows():\n",
    "    folium.Marker(\n",
    "        location=[row[\"Latitude\"], row[\"Longitude\"]],\n",
    "        popup=row[\"Site_Name\"]\n",
    "    ).add_to(marker_cluster)\n",
    "\n",
    "telecom_map.save(\"task3_marker_cluster.html\")\n",
    "from IPython.display import IFrame\n",
    "\n",
    "telecom_map.save(\"taskX_map.html\")\n",
    "\n",
    "IFrame(\"taskX_map.html\", width=800, height=500)"
   ]
  },
  {
   "cell_type": "markdown",
   "id": "2017e224-9101-4aee-a064-721d637cf690",
   "metadata": {},
   "source": [
    "4. Use different icons for sites with Status = OK, NOK, or Maintenance."
   ]
  },
  {
   "cell_type": "code",
   "execution_count": 52,
   "id": "cff1da52-4832-479f-be77-3004867a6b13",
   "metadata": {},
   "outputs": [
    {
     "data": {
      "text/html": [
       "\n",
       "        <iframe\n",
       "            width=\"800\"\n",
       "            height=\"500\"\n",
       "            src=\"taskX_map.html\"\n",
       "            frameborder=\"0\"\n",
       "            allowfullscreen\n",
       "            \n",
       "        ></iframe>\n",
       "        "
      ],
      "text/plain": [
       "<IPython.lib.display.IFrame at 0x1489e809850>"
      ]
     },
     "execution_count": 52,
     "metadata": {},
     "output_type": "execute_result"
    }
   ],
   "source": [
    "def get_status_icon(status):\n",
    "    if status == \"OK\":\n",
    "        return folium.Icon(color=\"green\", icon=\"check\", prefix=\"fa\")\n",
    "    elif status == \"NOK\":\n",
    "        return folium.Icon(color=\"red\", icon=\"times\", prefix=\"fa\")\n",
    "    elif status == \"Maintenance\":\n",
    "        return folium.Icon(color=\"orange\", icon=\"wrench\", prefix=\"fa\")\n",
    "    return folium.Icon(color=\"gray\")\n",
    "\n",
    "telecom_map = folium.Map(location=[40.4093, 49.8671], zoom_start=7)\n",
    "\n",
    "for _, row in df.iterrows():\n",
    "    folium.Marker(\n",
    "        location=[row[\"Latitude\"], row[\"Longitude\"]],\n",
    "        popup=row[\"Site_Name\"],\n",
    "        icon=get_status_icon(row[\"Status\"])\n",
    "    ).add_to(telecom_map)\n",
    "\n",
    "telecom_map.save(\"task4_status_icons.html\")\n",
    "from IPython.display import IFrame\n",
    "\n",
    "telecom_map.save(\"taskX_map.html\")\n",
    "\n",
    "IFrame(\"taskX_map.html\", width=800, height=500)"
   ]
  },
  {
   "cell_type": "markdown",
   "id": "375be04a-cad7-4015-beeb-95a789bac073",
   "metadata": {},
   "source": [
    "5. Show detailed info in popup (Site Name, Status, Power Source, Energy Consumption)."
   ]
  },
  {
   "cell_type": "code",
   "execution_count": 57,
   "id": "e7398ad7-2606-4e20-acd9-ceb7ac71d5d9",
   "metadata": {},
   "outputs": [
    {
     "data": {
      "text/html": [
       "\n",
       "        <iframe\n",
       "            width=\"800\"\n",
       "            height=\"500\"\n",
       "            src=\"taskX_map.html\"\n",
       "            frameborder=\"0\"\n",
       "            allowfullscreen\n",
       "            \n",
       "        ></iframe>\n",
       "        "
      ],
      "text/plain": [
       "<IPython.lib.display.IFrame at 0x1489eadce60>"
      ]
     },
     "execution_count": 57,
     "metadata": {},
     "output_type": "execute_result"
    }
   ],
   "source": [
    "telecom_map = folium.Map(location=[40.4093, 49.8671], zoom_start=7)\n",
    "\n",
    "for _, row in df.iterrows():\n",
    "    popup_info = f\"\"\"\n",
    "    <b>{row['Site_Name']}</b><br>\n",
    "    Status: {row['Status']}<br>\n",
    "    Power: {row['Power_Source']}<br>\n",
    "    Energy: {row['Energy_Consumption']}\n",
    "    \"\"\"\n",
    "    folium.Marker(location=[row[\"Latitude\"], row[\"Longitude\"]],\n",
    "                  popup=popup_info).add_to(telecom_map)\n",
    "\n",
    "telecom_map.save(\"task5_popup_details.html\")\n",
    "\n",
    "from IPython.display import IFrame\n",
    "\n",
    "telecom_map.save(\"taskX_map.html\")\n",
    "\n",
    "IFrame(\"taskX_map.html\", width=800, height=500)"
   ]
  },
  {
   "cell_type": "code",
   "execution_count": null,
   "id": "b6f23b4d-715f-4f6c-80fb-15236e7e51d7",
   "metadata": {},
   "outputs": [],
   "source": []
  },
  {
   "cell_type": "markdown",
   "id": "1bfb0f66-6172-46fd-8e9e-8769afca2b39",
   "metadata": {},
   "source": [
    "6. Create a choropleth map showing number of sites per Region using GeoJSON."
   ]
  },
  {
   "cell_type": "code",
   "execution_count": 65,
   "id": "f3df7e81-acfe-43b1-8d7d-bb34e1c31abd",
   "metadata": {},
   "outputs": [
    {
     "ename": "FileNotFoundError",
     "evalue": "[Errno 2] No such file or directory: 'regions.geojson'",
     "output_type": "error",
     "traceback": [
      "\u001b[1;31m---------------------------------------------------------------------------\u001b[0m",
      "\u001b[1;31mFileNotFoundError\u001b[0m                         Traceback (most recent call last)",
      "Cell \u001b[1;32mIn[65], line 10\u001b[0m\n\u001b[0;32m      6\u001b[0m region_counts\u001b[38;5;241m.\u001b[39mcolumns \u001b[38;5;241m=\u001b[39m [\u001b[38;5;124m\"\u001b[39m\u001b[38;5;124mRegion\u001b[39m\u001b[38;5;124m\"\u001b[39m, \u001b[38;5;124m\"\u001b[39m\u001b[38;5;124mCount\u001b[39m\u001b[38;5;124m\"\u001b[39m]\n\u001b[0;32m      8\u001b[0m telecom_map \u001b[38;5;241m=\u001b[39m folium\u001b[38;5;241m.\u001b[39mMap(location\u001b[38;5;241m=\u001b[39m[\u001b[38;5;241m40.4093\u001b[39m, \u001b[38;5;241m49.8671\u001b[39m], zoom_start\u001b[38;5;241m=\u001b[39m\u001b[38;5;241m7\u001b[39m)\n\u001b[1;32m---> 10\u001b[0m folium\u001b[38;5;241m.\u001b[39mChoropleth(\n\u001b[0;32m     11\u001b[0m     geo_data\u001b[38;5;241m=\u001b[39mgeojson_path,\n\u001b[0;32m     12\u001b[0m     data\u001b[38;5;241m=\u001b[39mregion_counts,\n\u001b[0;32m     13\u001b[0m     columns\u001b[38;5;241m=\u001b[39m[\u001b[38;5;124m\"\u001b[39m\u001b[38;5;124mRegion\u001b[39m\u001b[38;5;124m\"\u001b[39m, \u001b[38;5;124m\"\u001b[39m\u001b[38;5;124mCount\u001b[39m\u001b[38;5;124m\"\u001b[39m],\n\u001b[0;32m     14\u001b[0m     key_on\u001b[38;5;241m=\u001b[39m\u001b[38;5;124m\"\u001b[39m\u001b[38;5;124mfeature.properties.Region\u001b[39m\u001b[38;5;124m\"\u001b[39m, \n\u001b[0;32m     15\u001b[0m     fill_color\u001b[38;5;241m=\u001b[39m\u001b[38;5;124m\"\u001b[39m\u001b[38;5;124mYlOrRd\u001b[39m\u001b[38;5;124m\"\u001b[39m,\n\u001b[0;32m     16\u001b[0m     fill_opacity\u001b[38;5;241m=\u001b[39m\u001b[38;5;241m0.7\u001b[39m,\n\u001b[0;32m     17\u001b[0m     line_opacity\u001b[38;5;241m=\u001b[39m\u001b[38;5;241m0.2\u001b[39m,\n\u001b[0;32m     18\u001b[0m     legend_name\u001b[38;5;241m=\u001b[39m\u001b[38;5;124m\"\u001b[39m\u001b[38;5;124mNumber of Sites\u001b[39m\u001b[38;5;124m\"\u001b[39m\n\u001b[0;32m     19\u001b[0m )\u001b[38;5;241m.\u001b[39madd_to(telecom_map)\n\u001b[0;32m     21\u001b[0m telecom_map\u001b[38;5;241m.\u001b[39msave(\u001b[38;5;124m\"\u001b[39m\u001b[38;5;124mtask6_choropleth.html\u001b[39m\u001b[38;5;124m\"\u001b[39m)\n\u001b[0;32m     22\u001b[0m \u001b[38;5;28;01mfrom\u001b[39;00m\u001b[38;5;250m \u001b[39m\u001b[38;5;21;01mIPython\u001b[39;00m\u001b[38;5;21;01m.\u001b[39;00m\u001b[38;5;21;01mdisplay\u001b[39;00m\u001b[38;5;250m \u001b[39m\u001b[38;5;28;01mimport\u001b[39;00m IFrame\n",
      "File \u001b[1;32mC:\\ProgramData\\anaconda3\\Lib\\site-packages\\folium\\features.py:1683\u001b[0m, in \u001b[0;36mChoropleth.__init__\u001b[1;34m(self, geo_data, data, columns, key_on, bins, fill_color, nan_fill_color, fill_opacity, nan_fill_opacity, line_color, line_weight, line_opacity, name, legend_name, overlay, control, show, topojson, smooth_factor, highlight, use_jenks, **kwargs)\u001b[0m\n\u001b[0;32m   1676\u001b[0m     \u001b[38;5;28mself\u001b[39m\u001b[38;5;241m.\u001b[39mgeojson: Union[TopoJson, GeoJson] \u001b[38;5;241m=\u001b[39m TopoJson(\n\u001b[0;32m   1677\u001b[0m         geo_data,\n\u001b[0;32m   1678\u001b[0m         topojson,\n\u001b[0;32m   1679\u001b[0m         style_function\u001b[38;5;241m=\u001b[39mstyle_function,\n\u001b[0;32m   1680\u001b[0m         smooth_factor\u001b[38;5;241m=\u001b[39msmooth_factor,\n\u001b[0;32m   1681\u001b[0m     )\n\u001b[0;32m   1682\u001b[0m \u001b[38;5;28;01melse\u001b[39;00m:\n\u001b[1;32m-> 1683\u001b[0m     \u001b[38;5;28mself\u001b[39m\u001b[38;5;241m.\u001b[39mgeojson \u001b[38;5;241m=\u001b[39m GeoJson(\n\u001b[0;32m   1684\u001b[0m         geo_data,\n\u001b[0;32m   1685\u001b[0m         style_function\u001b[38;5;241m=\u001b[39mstyle_function,\n\u001b[0;32m   1686\u001b[0m         smooth_factor\u001b[38;5;241m=\u001b[39msmooth_factor,\n\u001b[0;32m   1687\u001b[0m         highlight_function\u001b[38;5;241m=\u001b[39mhighlight_function \u001b[38;5;28;01mif\u001b[39;00m highlight \u001b[38;5;28;01melse\u001b[39;00m \u001b[38;5;28;01mNone\u001b[39;00m,\n\u001b[0;32m   1688\u001b[0m     )\n\u001b[0;32m   1690\u001b[0m \u001b[38;5;28mself\u001b[39m\u001b[38;5;241m.\u001b[39madd_child(\u001b[38;5;28mself\u001b[39m\u001b[38;5;241m.\u001b[39mgeojson)\n\u001b[0;32m   1691\u001b[0m \u001b[38;5;28;01mif\u001b[39;00m \u001b[38;5;28mself\u001b[39m\u001b[38;5;241m.\u001b[39mcolor_scale:\n",
      "File \u001b[1;32mC:\\ProgramData\\anaconda3\\Lib\\site-packages\\folium\\features.py:733\u001b[0m, in \u001b[0;36mGeoJson.__init__\u001b[1;34m(self, data, style_function, highlight_function, popup_keep_highlighted, name, overlay, control, show, smooth_factor, tooltip, embed, popup, zoom_on_click, on_each_feature, marker, **kwargs)\u001b[0m\n\u001b[0;32m    730\u001b[0m \u001b[38;5;28mself\u001b[39m\u001b[38;5;241m.\u001b[39mon_each_feature \u001b[38;5;241m=\u001b[39m on_each_feature\n\u001b[0;32m    731\u001b[0m \u001b[38;5;28mself\u001b[39m\u001b[38;5;241m.\u001b[39moptions \u001b[38;5;241m=\u001b[39m remove_empty(\u001b[38;5;241m*\u001b[39m\u001b[38;5;241m*\u001b[39mkwargs)\n\u001b[1;32m--> 733\u001b[0m \u001b[38;5;28mself\u001b[39m\u001b[38;5;241m.\u001b[39mdata \u001b[38;5;241m=\u001b[39m \u001b[38;5;28mself\u001b[39m\u001b[38;5;241m.\u001b[39mprocess_data(data)\n\u001b[0;32m    735\u001b[0m \u001b[38;5;28;01mif\u001b[39;00m \u001b[38;5;28mself\u001b[39m\u001b[38;5;241m.\u001b[39mstyle \u001b[38;5;129;01mor\u001b[39;00m \u001b[38;5;28mself\u001b[39m\u001b[38;5;241m.\u001b[39mhighlight:\n\u001b[0;32m    736\u001b[0m     \u001b[38;5;28mself\u001b[39m\u001b[38;5;241m.\u001b[39mconvert_to_feature_collection()\n",
      "File \u001b[1;32mC:\\ProgramData\\anaconda3\\Lib\\site-packages\\folium\\features.py:770\u001b[0m, in \u001b[0;36mGeoJson.process_data\u001b[1;34m(self, data)\u001b[0m\n\u001b[0;32m    768\u001b[0m         \u001b[38;5;28;01mif\u001b[39;00m \u001b[38;5;129;01mnot\u001b[39;00m \u001b[38;5;28mself\u001b[39m\u001b[38;5;241m.\u001b[39membed:\n\u001b[0;32m    769\u001b[0m             \u001b[38;5;28mself\u001b[39m\u001b[38;5;241m.\u001b[39membed_link \u001b[38;5;241m=\u001b[39m data\n\u001b[1;32m--> 770\u001b[0m         \u001b[38;5;28;01mwith\u001b[39;00m \u001b[38;5;28mopen\u001b[39m(data) \u001b[38;5;28;01mas\u001b[39;00m f:\n\u001b[0;32m    771\u001b[0m             \u001b[38;5;28;01mreturn\u001b[39;00m json\u001b[38;5;241m.\u001b[39mloads(f\u001b[38;5;241m.\u001b[39mread())\n\u001b[0;32m    772\u001b[0m \u001b[38;5;28;01melif\u001b[39;00m \u001b[38;5;28mhasattr\u001b[39m(data, \u001b[38;5;124m\"\u001b[39m\u001b[38;5;124m__geo_interface__\u001b[39m\u001b[38;5;124m\"\u001b[39m):\n",
      "\u001b[1;31mFileNotFoundError\u001b[0m: [Errno 2] No such file or directory: 'regions.geojson'"
     ]
    }
   ],
   "source": [
    "import geopandas as gpd\n",
    "\n",
    "\n",
    "\n",
    "region_counts = df[\"Region\"].value_counts().reset_index()\n",
    "region_counts.columns = [\"Region\", \"Count\"]\n",
    "\n",
    "telecom_map = folium.Map(location=[40.4093, 49.8671], zoom_start=7)\n",
    "\n",
    "folium.Choropleth(\n",
    "    geo_data=geojson_path,\n",
    "    data=region_counts,\n",
    "    columns=[\"Region\", \"Count\"],\n",
    "    key_on=\"feature.properties.Region\", \n",
    "    fill_color=\"YlOrRd\",\n",
    "    fill_opacity=0.7,\n",
    "    line_opacity=0.2,\n",
    "    legend_name=\"Number of Sites\"\n",
    ").add_to(telecom_map)\n",
    "\n",
    "telecom_map.save(\"task6_choropleth.html\")\n",
    "from IPython.display import IFrame\n",
    "\n",
    "telecom_map.save(\"taskX_map.html\")\n",
    "\n",
    "IFrame(\"taskX_map.html\", width=800, height=500)"
   ]
  },
  {
   "cell_type": "markdown",
   "id": "c8dd39f2-aa58-4060-be4b-2d6effaac8f6",
   "metadata": {},
   "source": [
    "7. For each region, show a pie chart of Power_Source distribution on the map."
   ]
  },
  {
   "cell_type": "code",
   "execution_count": 19,
   "id": "f191379d-6e99-443f-95cc-40b7f3dc088b",
   "metadata": {
    "scrolled": true
   },
   "outputs": [
    {
     "data": {
      "image/png": "[encoded data removed]",
      "text/plain": [
       "<Figure size 640x480 with 1 Axes>"
      ]
     },
     "metadata": {},
     "output_type": "display_data"
    },
    {
     "data": {
      "image/png": "[encoded data removed]",
      "text/plain": [
       "<Figure size 640x480 with 1 Axes>"
      ]
     },
     "metadata": {},
     "output_type": "display_data"
    },
    {
     "data": {
      "image/png": "[encoded data removed]",
      "text/plain": [
       "<Figure size 640x480 with 1 Axes>"
      ]
     },
     "metadata": {},
     "output_type": "display_data"
    },
    {
     "data": {
      "image/png": "[encoded data removed]",
      "text/plain": [
       "<Figure size 640x480 with 1 Axes>"
      ]
     },
     "metadata": {},
     "output_type": "display_data"
    },
    {
     "data": {
      "image/png": "[encoded data removed]",
      "text/plain": [
       "<Figure size 640x480 with 1 Axes>"
      ]
     },
     "metadata": {},
     "output_type": "display_data"
    },
    {
     "data": {
      "image/png": "[encoded data removed]",
      "text/plain": [
       "<Figure size 640x480 with 1 Axes>"
      ]
     },
     "metadata": {},
     "output_type": "display_data"
    }
   ],
   "source": [
    "import matplotlib.pyplot as plt\n",
    "import base64\n",
    "from io import BytesIO\n",
    "\n",
    "telecom_map = folium.Map(location=[40.4093, 49.8671], zoom_start=7)\n",
    "\n",
    "for region in df[\"Region\"].unique():\n",
    "    region_df = df[df[\"Region\"] == region]\n",
    "    power_counts = region_df[\"Power_Source\"].value_counts()\n",
    "\n",
    "    fig, ax = plt.subplots()\n",
    "    ax.pie(power_counts, labels=power_counts.index, autopct='%1.1f%%')\n",
    "    ax.set_title(region)\n",
    "\n",
    "    buffer = BytesIO()\n",
    "    fig.savefig(buffer, format='png')\n",
    "    buffer.seek(0)\n",
    "    img_base64 = base64.b64encode(buffer.read()).decode()\n",
    "\n",
    "    html = f'<img src=\"data:image/png;base64,{img_base64}\">'\n",
    "    iframe = folium.IFrame(html, width=350, height=250)\n",
    "    popup = folium.Popup(iframe)\n",
    "\n",
    "    \n",
    "    avg_lat = region_df[\"Latitude\"].mean()\n",
    "    avg_lon = region_df[\"Longitude\"].mean()\n",
    "\n",
    "    folium.Marker(location=[avg_lat, avg_lon], popup=popup).add_to(telecom_map)\n",
    "\n",
    "telecom_map.save(\"task7_piecharts.html\")"
   ]
  },
  {
   "cell_type": "markdown",
   "id": "0b51e449-40b2-435e-b885-22f3018b2782",
   "metadata": {},
   "source": [
    "8. Highlight in red the sites where Last_Alarm_Time was within the last 24 hours."
   ]
  },
  {
   "cell_type": "code",
   "execution_count": 48,
   "id": "9fd5d2c4-fe11-4e0e-8f41-dc7b857840fb",
   "metadata": {},
   "outputs": [
    {
     "data": {
      "text/html": [
       "\n",
       "        <iframe\n",
       "            width=\"800\"\n",
       "            height=\"500\"\n",
       "            src=\"taskX_map.html\"\n",
       "            frameborder=\"0\"\n",
       "            allowfullscreen\n",
       "            \n",
       "        ></iframe>\n",
       "        "
      ],
      "text/plain": [
       "<IPython.lib.display.IFrame at 0x1489eb002c0>"
      ]
     },
     "execution_count": 48,
     "metadata": {},
     "output_type": "execute_result"
    }
   ],
   "source": [
    "import pandas as pd\n",
    "import folium\n",
    "from datetime import datetime, timedelta\n",
    "\n",
    "\n",
    "\n",
    "threshold = datetime.now() - timedelta(days=1)\n",
    "\n",
    "\n",
    "telecom_map = folium.Map(location=[40.4093, 49.8671], zoom_start=7)\n",
    "\n",
    "\n",
    "for _, row in df.iterrows():\n",
    "    color = \"red\" if row[\"Last_Alarm_Time\"] >= threshold else \"blue\"\n",
    "    folium.CircleMarker(\n",
    "        location=[row[\"Latitude\"], row[\"Longitude\"]],\n",
    "        radius=6,\n",
    "        color=color,\n",
    "        fill=True,\n",
    "        fill_opacity=0.7,\n",
    "        popup=row[\"Site_Name\"]\n",
    "    ).add_to(telecom_map)\n",
    "\n",
    "telecom_map.save(\"task8_recent_alarms.html\")\n",
    "from IPython.display import IFrame\n",
    "\n",
    "# Xəritəni saxla\n",
    "telecom_map.save(\"taskX_map.html\")\n",
    "\n",
    "# Notebook-da göstər\n",
    "IFrame(\"taskX_map.html\", width=800, height=500)"
   ]
  },
  {
   "cell_type": "markdown",
   "id": "7c653ba3-fedc-4c6f-95fc-9f7011efe108",
   "metadata": {},
   "source": [
    "9. Add a layer control to filter map by site Priority."
   ]
  },
  {
   "cell_type": "code",
   "execution_count": 63,
   "id": "d3ce2d41-b961-4f0a-b4c8-db2821c10b1a",
   "metadata": {},
   "outputs": [
    {
     "data": {
      "text/html": [
       "\n",
       "        <iframe\n",
       "            width=\"800\"\n",
       "            height=\"500\"\n",
       "            src=\"taskX_map.html\"\n",
       "            frameborder=\"0\"\n",
       "            allowfullscreen\n",
       "            \n",
       "        ></iframe>\n",
       "        "
      ],
      "text/plain": [
       "<IPython.lib.display.IFrame at 0x1489eaf11d0>"
      ]
     },
     "execution_count": 63,
     "metadata": {},
     "output_type": "execute_result"
    }
   ],
   "source": [
    "telecom_map = folium.Map(location=[40.4093, 49.8671], zoom_start=7)\n",
    "priorities = df[\"Priority\"].unique()\n",
    "\n",
    "for p in priorities:\n",
    "    fg = folium.FeatureGroup(name=f\"Priority {p}\")\n",
    "    subset = df[df[\"Priority\"] == p]\n",
    "    for _, row in subset.iterrows():\n",
    "        folium.Marker(location=[row[\"Latitude\"], row[\"Longitude\"]],\n",
    "                      popup=row[\"Site_Name\"]).add_to(fg)\n",
    "    fg.add_to(telecom_map)\n",
    "\n",
    "folium.LayerControl().add_to(telecom_map)\n",
    "telecom_map.save(\"task9_priority_filter.html\")\n",
    "from IPython.display import IFrame\n",
    "\n",
    "# Xəritəni saxla\n",
    "telecom_map.save(\"taskX_map.html\")\n",
    "\n",
    "# Notebook-da göstər\n",
    "IFrame(\"taskX_map.html\", width=800, height=500)"
   ]
  },
  {
   "cell_type": "markdown",
   "id": "70546bcc-56db-42fb-8a38-89b3e5334328",
   "metadata": {},
   "source": [
    "10. Build a mini dashboard to filter sites by Region, Status, or Power Source and update map."
   ]
  },
  {
   "cell_type": "code",
   "execution_count": 51,
   "id": "2ed00a18-c1ca-43ea-a5ec-3e2dc3090c5d",
   "metadata": {},
   "outputs": [
    {
     "name": "stderr",
     "output_type": "stream",
     "text": [
      "2025-07-22 12:59:08.418 Thread 'MainThread': missing ScriptRunContext! This warning can be ignored when running in bare mode.\n",
      "2025-07-22 12:59:08.419 Thread 'MainThread': missing ScriptRunContext! This warning can be ignored when running in bare mode.\n",
      "2025-07-22 12:59:08.419 Thread 'MainThread': missing ScriptRunContext! This warning can be ignored when running in bare mode.\n",
      "2025-07-22 12:59:08.420 Thread 'MainThread': missing ScriptRunContext! This warning can be ignored when running in bare mode.\n",
      "2025-07-22 12:59:08.421 Thread 'MainThread': missing ScriptRunContext! This warning can be ignored when running in bare mode.\n",
      "2025-07-22 12:59:08.421 Thread 'MainThread': missing ScriptRunContext! This warning can be ignored when running in bare mode.\n",
      "2025-07-22 12:59:08.422 Thread 'MainThread': missing ScriptRunContext! This warning can be ignored when running in bare mode.\n",
      "2025-07-22 12:59:08.423 Thread 'MainThread': missing ScriptRunContext! This warning can be ignored when running in bare mode.\n",
      "2025-07-22 12:59:08.424 Thread 'MainThread': missing ScriptRunContext! This warning can be ignored when running in bare mode.\n",
      "2025-07-22 12:59:08.425 Thread 'MainThread': missing ScriptRunContext! This warning can be ignored when running in bare mode.\n",
      "2025-07-22 12:59:08.425 Thread 'MainThread': missing ScriptRunContext! This warning can be ignored when running in bare mode.\n",
      "2025-07-22 12:59:08.426 Thread 'MainThread': missing ScriptRunContext! This warning can be ignored when running in bare mode.\n",
      "2025-07-22 12:59:08.427 Thread 'MainThread': missing ScriptRunContext! This warning can be ignored when running in bare mode.\n",
      "2025-07-22 12:59:08.428 Thread 'MainThread': missing ScriptRunContext! This warning can be ignored when running in bare mode.\n",
      "2025-07-22 12:59:08.429 Thread 'MainThread': missing ScriptRunContext! This warning can be ignored when running in bare mode.\n",
      "2025-07-22 12:59:08.430 Thread 'MainThread': missing ScriptRunContext! This warning can be ignored when running in bare mode.\n",
      "2025-07-22 12:59:08.430 Thread 'MainThread': missing ScriptRunContext! This warning can be ignored when running in bare mode.\n",
      "2025-07-22 12:59:08.431 Thread 'MainThread': missing ScriptRunContext! This warning can be ignored when running in bare mode.\n",
      "C:\\Users\\Cavidan\\AppData\\Local\\Temp\\ipykernel_26184\\174215510.py:34: DeprecationWarning: \n",
      "folium_static is deprecated and will be removed in a future release, or\n",
      "simply replaced with with st_folium which always passes\n",
      "returned_objects=[] to the component.\n",
      "Please try using st_folium instead, and\n",
      "post an issue at https://github.com/randyzwitch/streamlit-folium/issues\n",
      "if you experience issues with st_folium.\n",
      "\n",
      "  folium_static(telecom_map)\n",
      "2025-07-22 12:59:08.504 Thread 'MainThread': missing ScriptRunContext! This warning can be ignored when running in bare mode.\n",
      "2025-07-22 12:59:08.506 Thread 'MainThread': missing ScriptRunContext! This warning can be ignored when running in bare mode.\n"
     ]
    },
    {
     "data": {
      "text/plain": [
       "DeltaGenerator()"
      ]
     },
     "execution_count": 51,
     "metadata": {},
     "output_type": "execute_result"
    }
   ],
   "source": [
    "import streamlit as st\n",
    "import pandas as pd\n",
    "import folium\n",
    "from streamlit_folium import folium_static\n",
    "\n",
    "df = pd.read_excel(\"telecom_visualization_tasks.xlsx\", sheet_name=\"Site_Data\")\n",
    "\n",
    "\n",
    "region = st.selectbox(\"Select Region\", [\"All\"] + sorted(df[\"Region\"].unique()))\n",
    "status = st.selectbox(\"Select Status\", [\"All\"] + sorted(df[\"Status\"].unique()))\n",
    "power = st.selectbox(\"Select Power Source\", [\"All\"] + sorted(df[\"Power_Source\"].unique()))\n",
    "\n",
    "\n",
    "filtered = df.copy()\n",
    "if region != \"All\":\n",
    "    filtered = filtered[filtered[\"Region\"] == region]\n",
    "if status != \"All\":\n",
    "    filtered = filtered[filtered[\"Status\"] == status]\n",
    "if power != \"All\":\n",
    "    filtered = filtered[filtered[\"Power_Source\"] == power]\n",
    "\n",
    "\n",
    "telecom_map = folium.Map(location=[40.4093, 49.8671], zoom_start=7)\n",
    "for _, row in filtered.iterrows():\n",
    "    popup_info = f\"\"\"\n",
    "    <b>{row['Site_Name']}</b><br>\n",
    "    Status: {row['Status']}<br>\n",
    "    Power: {row['Power_Source']}<br>\n",
    "    Energy: {row['Energy_Consumption']}\n",
    "    \"\"\"\n",
    "    folium.Marker(location=[row[\"Latitude\"], row[\"Longitude\"]],\n",
    "                  popup=popup_info).add_to(telecom_map)\n",
    "\n",
    "folium_static(telecom_map)\n"
   ]
  },
  {
   "cell_type": "code",
   "execution_count": null,
   "id": "864d2961-f79b-4833-9cd1-1d3670c31763",
   "metadata": {},
   "outputs": [],
   "source": []
  },
  {
   "cell_type": "code",
   "execution_count": 14,
   "id": "d1b68fb6-85d0-438c-a9eb-9fc7185637b6",
   "metadata": {
    "scrolled": true
   },
   "outputs": [
    {
     "name": "stdout",
     "output_type": "stream",
     "text": [
      "Requirement already satisfied: geopandas in c:\\programdata\\anaconda3\\lib\\site-packages (1.1.1)Note: you may need to restart the kernel to use updated packages.\n",
      "\n",
      "Requirement already satisfied: numpy>=1.24 in c:\\programdata\\anaconda3\\lib\\site-packages (from geopandas) (2.1.3)\n",
      "Requirement already satisfied: pyogrio>=0.7.2 in c:\\programdata\\anaconda3\\lib\\site-packages (from geopandas) (0.11.0)\n",
      "Requirement already satisfied: packaging in c:\\programdata\\anaconda3\\lib\\site-packages (from geopandas) (24.2)\n",
      "Requirement already satisfied: pandas>=2.0.0 in c:\\programdata\\anaconda3\\lib\\site-packages (from geopandas) (2.2.3)\n",
      "Requirement already satisfied: pyproj>=3.5.0 in c:\\programdata\\anaconda3\\lib\\site-packages (from geopandas) (3.7.1)\n",
      "Requirement already satisfied: shapely>=2.0.0 in c:\\programdata\\anaconda3\\lib\\site-packages (from geopandas) (2.1.1)\n",
      "Requirement already satisfied: python-dateutil>=2.8.2 in c:\\programdata\\anaconda3\\lib\\site-packages (from pandas>=2.0.0->geopandas) (2.9.0.post0)\n",
      "Requirement already satisfied: pytz>=2020.1 in c:\\programdata\\anaconda3\\lib\\site-packages (from pandas>=2.0.0->geopandas) (2024.1)\n",
      "Requirement already satisfied: tzdata>=2022.7 in c:\\programdata\\anaconda3\\lib\\site-packages (from pandas>=2.0.0->geopandas) (2025.2)\n",
      "Requirement already satisfied: certifi in c:\\programdata\\anaconda3\\lib\\site-packages (from pyogrio>=0.7.2->geopandas) (2025.6.15)\n",
      "Requirement already satisfied: six>=1.5 in c:\\programdata\\anaconda3\\lib\\site-packages (from python-dateutil>=2.8.2->pandas>=2.0.0->geopandas) (1.17.0)\n"
     ]
    }
   ],
   "source": [
    "pip install geopandas"
   ]
  },
  {
   "cell_type": "code",
   "execution_count": 17,
   "id": "7c780eb4-1428-42ff-9e18-b2f66e230a8d",
   "metadata": {},
   "outputs": [
    {
     "name": "stdout",
     "output_type": "stream",
     "text": [
      "C:\\Users\\Cavidan\\Downloads\n"
     ]
    }
   ],
   "source": [
    "import os\n",
    "print(os.getcwd())  "
   ]
  },
  {
   "cell_type": "code",
   "execution_count": 33,
   "id": "1b73bc3f-f566-4271-87ee-7a6eed823df6",
   "metadata": {},
   "outputs": [
    {
     "name": "stdout",
     "output_type": "stream",
     "text": [
      "Collecting streamlit-folium\n",
      "  Downloading streamlit_folium-0.25.0-py3-none-any.whl.metadata (621 bytes)\n",
      "Requirement already satisfied: streamlit>=1.35.0 in c:\\programdata\\anaconda3\\lib\\site-packages (from streamlit-folium) (1.45.1)\n",
      "Requirement already satisfied: folium!=0.15.0,>=0.13 in c:\\programdata\\anaconda3\\lib\\site-packages (from streamlit-folium) (0.20.0)\n",
      "Requirement already satisfied: jinja2 in c:\\programdata\\anaconda3\\lib\\site-packages (from streamlit-folium) (3.1.6)\n",
      "Requirement already satisfied: branca in c:\\programdata\\anaconda3\\lib\\site-packages (from streamlit-folium) (0.8.1)\n",
      "Requirement already satisfied: numpy in c:\\programdata\\anaconda3\\lib\\site-packages (from folium!=0.15.0,>=0.13->streamlit-folium) (2.1.3)\n",
      "Requirement already satisfied: requests in c:\\programdata\\anaconda3\\lib\\site-packages (from folium!=0.15.0,>=0.13->streamlit-folium) (2.32.3)\n",
      "Requirement already satisfied: xyzservices in c:\\programdata\\anaconda3\\lib\\site-packages (from folium!=0.15.0,>=0.13->streamlit-folium) (2022.9.0)\n",
      "Requirement already satisfied: MarkupSafe>=2.0 in c:\\programdata\\anaconda3\\lib\\site-packages (from jinja2->streamlit-folium) (3.0.2)\n",
      "Requirement already satisfied: altair<6,>=4.0 in c:\\programdata\\anaconda3\\lib\\site-packages (from streamlit>=1.35.0->streamlit-folium) (5.5.0)\n",
      "Requirement already satisfied: blinker<2,>=1.5.0 in c:\\programdata\\anaconda3\\lib\\site-packages (from streamlit>=1.35.0->streamlit-folium) (1.9.0)\n",
      "Requirement already satisfied: cachetools<6,>=4.0 in c:\\programdata\\anaconda3\\lib\\site-packages (from streamlit>=1.35.0->streamlit-folium) (5.5.1)\n",
      "Requirement already satisfied: click<9,>=7.0 in c:\\programdata\\anaconda3\\lib\\site-packages (from streamlit>=1.35.0->streamlit-folium) (8.1.8)\n",
      "Requirement already satisfied: packaging<25,>=20 in c:\\programdata\\anaconda3\\lib\\site-packages (from streamlit>=1.35.0->streamlit-folium) (24.2)\n",
      "Requirement already satisfied: pandas<3,>=1.4.0 in c:\\programdata\\anaconda3\\lib\\site-packages (from streamlit>=1.35.0->streamlit-folium) (2.2.3)\n",
      "Requirement already satisfied: pillow<12,>=7.1.0 in c:\\programdata\\anaconda3\\lib\\site-packages (from streamlit>=1.35.0->streamlit-folium) (11.1.0)\n",
      "Requirement already satisfied: protobuf<7,>=3.20 in c:\\programdata\\anaconda3\\lib\\site-packages (from streamlit>=1.35.0->streamlit-folium) (5.29.3)\n",
      "Requirement already satisfied: pyarrow>=7.0 in c:\\programdata\\anaconda3\\lib\\site-packages (from streamlit>=1.35.0->streamlit-folium) (19.0.0)\n",
      "Requirement already satisfied: tenacity<10,>=8.1.0 in c:\\programdata\\anaconda3\\lib\\site-packages (from streamlit>=1.35.0->streamlit-folium) (9.0.0)\n",
      "Requirement already satisfied: toml<2,>=0.10.1 in c:\\programdata\\anaconda3\\lib\\site-packages (from streamlit>=1.35.0->streamlit-folium) (0.10.2)\n",
      "Requirement already satisfied: typing-extensions<5,>=4.4.0 in c:\\programdata\\anaconda3\\lib\\site-packages (from streamlit>=1.35.0->streamlit-folium) (4.12.2)\n",
      "Requirement already satisfied: watchdog<7,>=2.1.5 in c:\\programdata\\anaconda3\\lib\\site-packages (from streamlit>=1.35.0->streamlit-folium) (4.0.2)\n",
      "Requirement already satisfied: gitpython!=3.1.19,<4,>=3.0.7 in c:\\programdata\\anaconda3\\lib\\site-packages (from streamlit>=1.35.0->streamlit-folium) (3.1.43)\n",
      "Requirement already satisfied: tornado<7,>=6.0.3 in c:\\programdata\\anaconda3\\lib\\site-packages (from streamlit>=1.35.0->streamlit-folium) (6.5.1)\n",
      "Requirement already satisfied: jsonschema>=3.0 in c:\\programdata\\anaconda3\\lib\\site-packages (from altair<6,>=4.0->streamlit>=1.35.0->streamlit-folium) (4.23.0)\n",
      "Requirement already satisfied: narwhals>=1.14.2 in c:\\programdata\\anaconda3\\lib\\site-packages (from altair<6,>=4.0->streamlit>=1.35.0->streamlit-folium) (1.31.0)\n",
      "Requirement already satisfied: colorama in c:\\programdata\\anaconda3\\lib\\site-packages (from click<9,>=7.0->streamlit>=1.35.0->streamlit-folium) (0.4.6)\n",
      "Requirement already satisfied: gitdb<5,>=4.0.1 in c:\\programdata\\anaconda3\\lib\\site-packages (from gitpython!=3.1.19,<4,>=3.0.7->streamlit>=1.35.0->streamlit-folium) (4.0.7)\n",
      "Requirement already satisfied: smmap<5,>=3.0.1 in c:\\programdata\\anaconda3\\lib\\site-packages (from gitdb<5,>=4.0.1->gitpython!=3.1.19,<4,>=3.0.7->streamlit>=1.35.0->streamlit-folium) (4.0.0)\n",
      "Requirement already satisfied: python-dateutil>=2.8.2 in c:\\programdata\\anaconda3\\lib\\site-packages (from pandas<3,>=1.4.0->streamlit>=1.35.0->streamlit-folium) (2.9.0.post0)\n",
      "Requirement already satisfied: pytz>=2020.1 in c:\\programdata\\anaconda3\\lib\\site-packages (from pandas<3,>=1.4.0->streamlit>=1.35.0->streamlit-folium) (2024.1)\n",
      "Requirement already satisfied: tzdata>=2022.7 in c:\\programdata\\anaconda3\\lib\\site-packages (from pandas<3,>=1.4.0->streamlit>=1.35.0->streamlit-folium) (2025.2)\n",
      "Requirement already satisfied: charset-normalizer<4,>=2 in c:\\programdata\\anaconda3\\lib\\site-packages (from requests->folium!=0.15.0,>=0.13->streamlit-folium) (3.3.2)\n",
      "Requirement already satisfied: idna<4,>=2.5 in c:\\programdata\\anaconda3\\lib\\site-packages (from requests->folium!=0.15.0,>=0.13->streamlit-folium) (3.7)\n",
      "Requirement already satisfied: urllib3<3,>=1.21.1 in c:\\programdata\\anaconda3\\lib\\site-packages (from requests->folium!=0.15.0,>=0.13->streamlit-folium) (2.3.0)\n",
      "Requirement already satisfied: certifi>=2017.4.17 in c:\\programdata\\anaconda3\\lib\\site-packages (from requests->folium!=0.15.0,>=0.13->streamlit-folium) (2025.6.15)\n",
      "Requirement already satisfied: attrs>=22.2.0 in c:\\programdata\\anaconda3\\lib\\site-packages (from jsonschema>=3.0->altair<6,>=4.0->streamlit>=1.35.0->streamlit-folium) (24.3.0)\n",
      "Requirement already satisfied: jsonschema-specifications>=2023.03.6 in c:\\programdata\\anaconda3\\lib\\site-packages (from jsonschema>=3.0->altair<6,>=4.0->streamlit>=1.35.0->streamlit-folium) (2023.7.1)\n",
      "Requirement already satisfied: referencing>=0.28.4 in c:\\programdata\\anaconda3\\lib\\site-packages (from jsonschema>=3.0->altair<6,>=4.0->streamlit>=1.35.0->streamlit-folium) (0.30.2)\n",
      "Requirement already satisfied: rpds-py>=0.7.1 in c:\\programdata\\anaconda3\\lib\\site-packages (from jsonschema>=3.0->altair<6,>=4.0->streamlit>=1.35.0->streamlit-folium) (0.22.3)\n",
      "Requirement already satisfied: six>=1.5 in c:\\programdata\\anaconda3\\lib\\site-packages (from python-dateutil>=2.8.2->pandas<3,>=1.4.0->streamlit>=1.35.0->streamlit-folium) (1.17.0)\n",
      "Downloading streamlit_folium-0.25.0-py3-none-any.whl (328 kB)\n",
      "Installing collected packages: streamlit-folium\n",
      "Successfully installed streamlit-folium-0.25.0\n"
     ]
    }
   ],
   "source": [
    "!pip install streamlit-folium"
   ]
  },
  {
   "cell_type": "code",
   "execution_count": null,
   "id": "c260e140-a5d9-442d-b7c6-0b328975fd52",
   "metadata": {},
   "outputs": [],
   "source": []
  },
  {
   "cell_type": "code",
   "execution_count": null,
   "id": "6e552466-22c5-4f03-981c-9a7a8f505526",
   "metadata": {},
   "outputs": [],
   "source": []
  }
 ],
 "metadata": {
  "kernelspec": {
   "display_name": "Python [conda env:base] *",
   "language": "python",
   "name": "conda-base-py"
  },
  "language_info": {
   "codemirror_mode": {
    "name": "ipython",
    "version": 3
   },
   "file_extension": ".py",
   "mimetype": "text/x-python",
   "name": "python",
   "nbconvert_exporter": "python",
   "pygments_lexer": "ipython3",
   "version": "3.13.5"
  }
 },
 "nbformat": 4,
 "nbformat_minor": 5
}
